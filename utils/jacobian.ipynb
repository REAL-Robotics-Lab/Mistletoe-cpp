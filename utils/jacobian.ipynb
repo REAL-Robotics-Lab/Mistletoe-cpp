{
 "cells": [
  {
   "cell_type": "code",
   "execution_count": 25,
   "metadata": {},
   "outputs": [
    {
     "data": {
      "text/plain": [
       "<bound method MutableDenseMatrix.simplify of Matrix([\n",
       "[(l1**2*sin(theta_1)*cos(theta_1) + l1*l2*sin(theta_1)*cos(theta_1 + theta_2) + l1*l2*sin(theta_1 + theta_2)*cos(theta_1) + l2**2*sin(theta_1 + theta_2)*cos(theta_1 + theta_2))*sin(theta_3)*cos(theta_3)/sqrt(l1**2*sin(theta_1)**2 + 2*l1*l2*sin(theta_1)*sin(theta_1 + theta_2) + l2**2*sin(theta_1 + theta_2)**2 + x_offset**2), (l1*l2*sin(theta_1)*cos(theta_1 + theta_2) + l2**2*sin(theta_1 + theta_2)*cos(theta_1 + theta_2))*sin(theta_3)*cos(theta_3)/sqrt(l1**2*sin(theta_1)**2 + 2*l1*l2*sin(theta_1)*sin(theta_1 + theta_2) + l2**2*sin(theta_1 + theta_2)**2 + x_offset**2), -sqrt(l1**2*sin(theta_1)**2 + 2*l1*l2*sin(theta_1)*sin(theta_1 + theta_2) + l2**2*sin(theta_1 + theta_2)**2 + x_offset**2)*sin(theta_3)**2 + sqrt(l1**2*sin(theta_1)**2 + 2*l1*l2*sin(theta_1)*sin(theta_1 + theta_2) + l2**2*sin(theta_1 + theta_2)**2 + x_offset**2)*cos(theta_3)**2],\n",
       "[                                                                                                                                                                                                                                                                                       -l1*sin(theta_1) - l2*sin(theta_1 + theta_2),                                                                                                                                                                                                                            -l2*sin(theta_1 + theta_2),                                                                                                                                                                                                                                                                                      0],\n",
       "[             (l1**2*sin(theta_1)*cos(theta_1) + l1*l2*sin(theta_1)*cos(theta_1 + theta_2) + l1*l2*sin(theta_1 + theta_2)*cos(theta_1) + l2**2*sin(theta_1 + theta_2)*cos(theta_1 + theta_2))*sin(theta_3)/sqrt(l1**2*sin(theta_1)**2 + 2*l1*l2*sin(theta_1)*sin(theta_1 + theta_2) + l2**2*sin(theta_1 + theta_2)**2 + x_offset**2),              (l1*l2*sin(theta_1)*cos(theta_1 + theta_2) + l2**2*sin(theta_1 + theta_2)*cos(theta_1 + theta_2))*sin(theta_3)/sqrt(l1**2*sin(theta_1)**2 + 2*l1*l2*sin(theta_1)*sin(theta_1 + theta_2) + l2**2*sin(theta_1 + theta_2)**2 + x_offset**2),                                                                                                                                                 sqrt(l1**2*sin(theta_1)**2 + 2*l1*l2*sin(theta_1)*sin(theta_1 + theta_2) + l2**2*sin(theta_1 + theta_2)**2 + x_offset**2)*cos(theta_3)]])>"
      ]
     },
     "execution_count": 25,
     "metadata": {},
     "output_type": "execute_result"
    }
   ],
   "source": [
    "from sympy.codegen.ast import Assignment\n",
    "import sympy as sp\n",
    "\n",
    "# Define the symbolic variables\n",
    "theta_1, theta_2, theta_3 = sp.symbols('theta_1 theta_2 theta_3')\n",
    "l1, l2, x_offset = sp.symbols('l1 l2 x_offset')\n",
    "\n",
    "# Define the functions\n",
    "y = l1 * sp.cos(theta_1) + l2 * sp.cos(theta_1 + theta_2)\n",
    "z =  sp.sin(theta_3)* sp.sqrt(x_offset**2 + (l1 * sp.sin(theta_1))**2 + 2 * l1 * l2 * sp.sin(theta_1) * sp.sin(theta_1 + theta_2) + (l2 * sp.sin(theta_1 + theta_2))**2)\n",
    "x = sp.cos(theta_3) * sp.sin(theta_3) * sp.sqrt(x_offset**2 + (l1 * sp.sin(theta_1))**2 + 2 * l1 * l2 * sp.sin(theta_1) * sp.sin(theta_1 + theta_2) + (l2 * sp.sin(theta_1 + theta_2))**2)\n",
    "# Compute the Jacobian matrix\n",
    "J = sp.Matrix([\n",
    "    [sp.diff(x, theta_1), sp.diff(x, theta_2), sp.diff(x, theta_3)],\n",
    "    [sp.diff(y, theta_1), sp.diff(y, theta_2), sp.diff(y, theta_3)],\n",
    "    [sp.diff(z, theta_1), sp.diff(z, theta_2), sp.diff(z, theta_3)]\n",
    "])\n",
    "\n",
    "J.simplify\n"
   ]
  },
  {
   "cell_type": "code",
   "execution_count": 27,
   "metadata": {},
   "outputs": [
    {
     "data": {
      "text/latex": [
       "$\\displaystyle \\left[\\begin{matrix}\\frac{\\left(l_{1}^{2} \\sin{\\left(\\theta_{1} \\right)} \\cos{\\left(\\theta_{1} \\right)} + l_{1} l_{2} \\sin{\\left(\\theta_{1} \\right)} \\cos{\\left(\\theta_{1} + \\theta_{2} \\right)} + l_{1} l_{2} \\sin{\\left(\\theta_{1} + \\theta_{2} \\right)} \\cos{\\left(\\theta_{1} \\right)} + l_{2}^{2} \\sin{\\left(\\theta_{1} + \\theta_{2} \\right)} \\cos{\\left(\\theta_{1} + \\theta_{2} \\right)}\\right) \\sin{\\left(\\theta_{3} \\right)} \\cos{\\left(\\theta_{3} \\right)}}{\\sqrt{l_{1}^{2} \\sin^{2}{\\left(\\theta_{1} \\right)} + 2 l_{1} l_{2} \\sin{\\left(\\theta_{1} \\right)} \\sin{\\left(\\theta_{1} + \\theta_{2} \\right)} + l_{2}^{2} \\sin^{2}{\\left(\\theta_{1} + \\theta_{2} \\right)} + x_{offset}^{2}}} & \\frac{\\left(l_{1} l_{2} \\sin{\\left(\\theta_{1} \\right)} \\cos{\\left(\\theta_{1} + \\theta_{2} \\right)} + l_{2}^{2} \\sin{\\left(\\theta_{1} + \\theta_{2} \\right)} \\cos{\\left(\\theta_{1} + \\theta_{2} \\right)}\\right) \\sin{\\left(\\theta_{3} \\right)} \\cos{\\left(\\theta_{3} \\right)}}{\\sqrt{l_{1}^{2} \\sin^{2}{\\left(\\theta_{1} \\right)} + 2 l_{1} l_{2} \\sin{\\left(\\theta_{1} \\right)} \\sin{\\left(\\theta_{1} + \\theta_{2} \\right)} + l_{2}^{2} \\sin^{2}{\\left(\\theta_{1} + \\theta_{2} \\right)} + x_{offset}^{2}}} & - \\sqrt{l_{1}^{2} \\sin^{2}{\\left(\\theta_{1} \\right)} + 2 l_{1} l_{2} \\sin{\\left(\\theta_{1} \\right)} \\sin{\\left(\\theta_{1} + \\theta_{2} \\right)} + l_{2}^{2} \\sin^{2}{\\left(\\theta_{1} + \\theta_{2} \\right)} + x_{offset}^{2}} \\sin^{2}{\\left(\\theta_{3} \\right)} + \\sqrt{l_{1}^{2} \\sin^{2}{\\left(\\theta_{1} \\right)} + 2 l_{1} l_{2} \\sin{\\left(\\theta_{1} \\right)} \\sin{\\left(\\theta_{1} + \\theta_{2} \\right)} + l_{2}^{2} \\sin^{2}{\\left(\\theta_{1} + \\theta_{2} \\right)} + x_{offset}^{2}} \\cos^{2}{\\left(\\theta_{3} \\right)}\\\\- l_{1} \\sin{\\left(\\theta_{1} \\right)} - l_{2} \\sin{\\left(\\theta_{1} + \\theta_{2} \\right)} & - l_{2} \\sin{\\left(\\theta_{1} + \\theta_{2} \\right)} & 0\\\\\\frac{\\left(l_{1}^{2} \\sin{\\left(\\theta_{1} \\right)} \\cos{\\left(\\theta_{1} \\right)} + l_{1} l_{2} \\sin{\\left(\\theta_{1} \\right)} \\cos{\\left(\\theta_{1} + \\theta_{2} \\right)} + l_{1} l_{2} \\sin{\\left(\\theta_{1} + \\theta_{2} \\right)} \\cos{\\left(\\theta_{1} \\right)} + l_{2}^{2} \\sin{\\left(\\theta_{1} + \\theta_{2} \\right)} \\cos{\\left(\\theta_{1} + \\theta_{2} \\right)}\\right) \\sin{\\left(\\theta_{3} \\right)}}{\\sqrt{l_{1}^{2} \\sin^{2}{\\left(\\theta_{1} \\right)} + 2 l_{1} l_{2} \\sin{\\left(\\theta_{1} \\right)} \\sin{\\left(\\theta_{1} + \\theta_{2} \\right)} + l_{2}^{2} \\sin^{2}{\\left(\\theta_{1} + \\theta_{2} \\right)} + x_{offset}^{2}}} & \\frac{\\left(l_{1} l_{2} \\sin{\\left(\\theta_{1} \\right)} \\cos{\\left(\\theta_{1} + \\theta_{2} \\right)} + l_{2}^{2} \\sin{\\left(\\theta_{1} + \\theta_{2} \\right)} \\cos{\\left(\\theta_{1} + \\theta_{2} \\right)}\\right) \\sin{\\left(\\theta_{3} \\right)}}{\\sqrt{l_{1}^{2} \\sin^{2}{\\left(\\theta_{1} \\right)} + 2 l_{1} l_{2} \\sin{\\left(\\theta_{1} \\right)} \\sin{\\left(\\theta_{1} + \\theta_{2} \\right)} + l_{2}^{2} \\sin^{2}{\\left(\\theta_{1} + \\theta_{2} \\right)} + x_{offset}^{2}}} & \\sqrt{l_{1}^{2} \\sin^{2}{\\left(\\theta_{1} \\right)} + 2 l_{1} l_{2} \\sin{\\left(\\theta_{1} \\right)} \\sin{\\left(\\theta_{1} + \\theta_{2} \\right)} + l_{2}^{2} \\sin^{2}{\\left(\\theta_{1} + \\theta_{2} \\right)} + x_{offset}^{2}} \\cos{\\left(\\theta_{3} \\right)}\\end{matrix}\\right]$"
      ],
      "text/plain": [
       "Matrix([\n",
       "[(l1**2*sin(theta_1)*cos(theta_1) + l1*l2*sin(theta_1)*cos(theta_1 + theta_2) + l1*l2*sin(theta_1 + theta_2)*cos(theta_1) + l2**2*sin(theta_1 + theta_2)*cos(theta_1 + theta_2))*sin(theta_3)*cos(theta_3)/sqrt(l1**2*sin(theta_1)**2 + 2*l1*l2*sin(theta_1)*sin(theta_1 + theta_2) + l2**2*sin(theta_1 + theta_2)**2 + x_offset**2), (l1*l2*sin(theta_1)*cos(theta_1 + theta_2) + l2**2*sin(theta_1 + theta_2)*cos(theta_1 + theta_2))*sin(theta_3)*cos(theta_3)/sqrt(l1**2*sin(theta_1)**2 + 2*l1*l2*sin(theta_1)*sin(theta_1 + theta_2) + l2**2*sin(theta_1 + theta_2)**2 + x_offset**2), -sqrt(l1**2*sin(theta_1)**2 + 2*l1*l2*sin(theta_1)*sin(theta_1 + theta_2) + l2**2*sin(theta_1 + theta_2)**2 + x_offset**2)*sin(theta_3)**2 + sqrt(l1**2*sin(theta_1)**2 + 2*l1*l2*sin(theta_1)*sin(theta_1 + theta_2) + l2**2*sin(theta_1 + theta_2)**2 + x_offset**2)*cos(theta_3)**2],\n",
       "[                                                                                                                                                                                                                                                                                       -l1*sin(theta_1) - l2*sin(theta_1 + theta_2),                                                                                                                                                                                                                            -l2*sin(theta_1 + theta_2),                                                                                                                                                                                                                                                                                      0],\n",
       "[             (l1**2*sin(theta_1)*cos(theta_1) + l1*l2*sin(theta_1)*cos(theta_1 + theta_2) + l1*l2*sin(theta_1 + theta_2)*cos(theta_1) + l2**2*sin(theta_1 + theta_2)*cos(theta_1 + theta_2))*sin(theta_3)/sqrt(l1**2*sin(theta_1)**2 + 2*l1*l2*sin(theta_1)*sin(theta_1 + theta_2) + l2**2*sin(theta_1 + theta_2)**2 + x_offset**2),              (l1*l2*sin(theta_1)*cos(theta_1 + theta_2) + l2**2*sin(theta_1 + theta_2)*cos(theta_1 + theta_2))*sin(theta_3)/sqrt(l1**2*sin(theta_1)**2 + 2*l1*l2*sin(theta_1)*sin(theta_1 + theta_2) + l2**2*sin(theta_1 + theta_2)**2 + x_offset**2),                                                                                                                                                 sqrt(l1**2*sin(theta_1)**2 + 2*l1*l2*sin(theta_1)*sin(theta_1 + theta_2) + l2**2*sin(theta_1 + theta_2)**2 + x_offset**2)*cos(theta_3)]])"
      ]
     },
     "execution_count": 27,
     "metadata": {},
     "output_type": "execute_result"
    }
   ],
   "source": [
    "J"
   ]
  },
  {
   "cell_type": "code",
   "execution_count": 28,
   "metadata": {},
   "outputs": [
    {
     "name": "stdout",
     "output_type": "stream",
     "text": [
      "#include \"example.h\"\n",
      "#include <math.h>\n",
      "void example(double l1, double l2, double theta_1, double theta_2, double theta_3, double x_offset, double *out_2505264937674718270) {\n",
      "   out_2505264937674718270[0] = (pow(l1, 2)*sin(theta_1)*cos(theta_1) + l1*l2*sin(theta_1)*cos(theta_1 + theta_2) + l1*l2*sin(theta_1 + theta_2)*cos(theta_1) + pow(l2, 2)*sin(theta_1 + theta_2)*cos(theta_1 + theta_2))*sin(theta_3)*cos(theta_3)/sqrt(pow(l1, 2)*pow(sin(theta_1), 2) + 2*l1*l2*sin(theta_1)*sin(theta_1 + theta_2) + pow(l2, 2)*pow(sin(theta_1 + theta_2), 2) + pow(x_offset, 2));\n",
      "   out_2505264937674718270[1] = (l1*l2*sin(theta_1)*cos(theta_1 + theta_2) + pow(l2, 2)*sin(theta_1 + theta_2)*cos(theta_1 + theta_2))*sin(theta_3)*cos(theta_3)/sqrt(pow(l1, 2)*pow(sin(theta_1), 2) + 2*l1*l2*sin(theta_1)*sin(theta_1 + theta_2) + pow(l2, 2)*pow(sin(theta_1 + theta_2), 2) + pow(x_offset, 2));\n",
      "   out_2505264937674718270[2] = -sqrt(pow(l1, 2)*pow(sin(theta_1), 2) + 2*l1*l2*sin(theta_1)*sin(theta_1 + theta_2) + pow(l2, 2)*pow(sin(theta_1 + theta_2), 2) + pow(x_offset, 2))*pow(sin(theta_3), 2) + sqrt(pow(l1, 2)*pow(sin(theta_1), 2) + 2*l1*l2*sin(theta_1)*sin(theta_1 + theta_2) + pow(l2, 2)*pow(sin(theta_1 + theta_2), 2) + pow(x_offset, 2))*pow(cos(theta_3), 2);\n",
      "   out_2505264937674718270[3] = -l1*sin(theta_1) - l2*sin(theta_1 + theta_2);\n",
      "   out_2505264937674718270[4] = -l2*sin(theta_1 + theta_2);\n",
      "   out_2505264937674718270[5] = 0;\n",
      "   out_2505264937674718270[6] = (pow(l1, 2)*sin(theta_1)*cos(theta_1) + l1*l2*sin(theta_1)*cos(theta_1 + theta_2) + l1*l2*sin(theta_1 + theta_2)*cos(theta_1) + pow(l2, 2)*sin(theta_1 + theta_2)*cos(theta_1 + theta_2))*sin(theta_3)/sqrt(pow(l1, 2)*pow(sin(theta_1), 2) + 2*l1*l2*sin(theta_1)*sin(theta_1 + theta_2) + pow(l2, 2)*pow(sin(theta_1 + theta_2), 2) + pow(x_offset, 2));\n",
      "   out_2505264937674718270[7] = (l1*l2*sin(theta_1)*cos(theta_1 + theta_2) + pow(l2, 2)*sin(theta_1 + theta_2)*cos(theta_1 + theta_2))*sin(theta_3)/sqrt(pow(l1, 2)*pow(sin(theta_1), 2) + 2*l1*l2*sin(theta_1)*sin(theta_1 + theta_2) + pow(l2, 2)*pow(sin(theta_1 + theta_2), 2) + pow(x_offset, 2));\n",
      "   out_2505264937674718270[8] = sqrt(pow(l1, 2)*pow(sin(theta_1), 2) + 2*l1*l2*sin(theta_1)*sin(theta_1 + theta_2) + pow(l2, 2)*pow(sin(theta_1 + theta_2), 2) + pow(x_offset, 2))*cos(theta_3);\n",
      "}\n",
      "\n"
     ]
    }
   ],
   "source": [
    "from sympy import symbols, Eq, sin\n",
    "from sympy.utilities.codegen import codegen\n",
    "\n",
    "# Define the symbols\n",
    "expr = sp.diff(x, theta_1)\n",
    "\n",
    "# Generate C++ code\n",
    "[(c_name, c_code), (h_name, c_header)] = codegen(\n",
    "    (\"example\", J),\n",
    "    \"C\",\n",
    "    \"example\",\n",
    "    header=False,\n",
    "    empty=False\n",
    ")\n",
    "\n",
    "# Output the generated C++ code\n",
    "print(c_code)"
   ]
  },
  {
   "cell_type": "markdown",
   "metadata": {},
   "source": []
  },
  {
   "cell_type": "code",
   "execution_count": 29,
   "metadata": {},
   "outputs": [
    {
     "data": {
      "text/plain": [
       "\"l1 = Symbol('l1')\\ntheta_1 = Symbol('theta_1')\\nl2 = Symbol('l2')\\ntheta_2 = Symbol('theta_2')\\ntheta_3 = Symbol('theta_3')\\nx_offset = Symbol('x_offset')\\ne = (l1**2*sin(theta_1)*cos(theta_1) + l1*l2*sin(theta_1)*cos(theta_1 + theta_2) + l1*l2*sin(theta_1 + theta_2)*cos(theta_1) + l2**2*sin(theta_1 + theta_2)*cos(theta_1 + theta_2))*sin(theta_3)*cos(theta_3)/sqrt(l1**2*sin(theta_1)**2 + 2*l1*l2*sin(theta_1)*sin(theta_1 + theta_2) + l2**2*sin(theta_1 + theta_2)**2 + x_offset**2)\""
      ]
     },
     "execution_count": 29,
     "metadata": {},
     "output_type": "execute_result"
    }
   ],
   "source": [
    "sp.python(sp.diff(x, theta_1))"
   ]
  },
  {
   "cell_type": "code",
   "execution_count": null,
   "metadata": {},
   "outputs": [],
   "source": []
  }
 ],
 "metadata": {
  "kernelspec": {
   "display_name": "Python 3",
   "language": "python",
   "name": "python3"
  },
  "language_info": {
   "codemirror_mode": {
    "name": "ipython",
    "version": 3
   },
   "file_extension": ".py",
   "mimetype": "text/x-python",
   "name": "python",
   "nbconvert_exporter": "python",
   "pygments_lexer": "ipython3",
   "version": "3.10.2"
  }
 },
 "nbformat": 4,
 "nbformat_minor": 2
}
